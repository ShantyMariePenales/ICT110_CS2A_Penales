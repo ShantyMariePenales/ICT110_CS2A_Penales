{
  "nbformat": 4,
  "nbformat_minor": 0,
  "metadata": {
    "colab": {
      "provenance": []
    },
    "kernelspec": {
      "name": "python3",
      "display_name": "Python 3"
    },
    "language_info": {
      "name": "python"
    }
  },
  "cells": [
    {
      "cell_type": "markdown",
      "source": [
        "Exercise 1:"
      ],
      "metadata": {
        "id": "fHZFp7rN8EFp"
      }
    },
    {
      "cell_type": "code",
      "source": [
        "Print('Hello world!')\n",
        "#the \"Print\" word should be \"print\""
      ],
      "metadata": {
        "id": "Lmdby3Ya8Fj5"
      },
      "execution_count": null,
      "outputs": []
    },
    {
      "cell_type": "code",
      "source": [
        "print'Hello world!')\n",
        "#the  first constructor is missing \"(\" it should be \"()\""
      ],
      "metadata": {
        "id": "SDBg7AK28G9C"
      },
      "execution_count": null,
      "outputs": []
    },
    {
      "cell_type": "code",
      "source": [
        "print('Hello world!)\n",
        "#the last  quotation is missing (')"
      ],
      "metadata": {
        "id": "iWP3iUba8HIX"
      },
      "execution_count": null,
      "outputs": []
    },
    {
      "cell_type": "code",
      "source": [
        "print('Hello world!'')\n",
        "#the qoutes is extra\n"
      ],
      "metadata": {
        "id": "gSzC2oIv8HT0"
      },
      "execution_count": null,
      "outputs": []
    },
    {
      "cell_type": "markdown",
      "source": [
        "Exercise 2:"
      ],
      "metadata": {
        "id": "_pB0Bccx8UFD"
      }
    },
    {
      "cell_type": "code",
      "source": [
        "x = 43\n",
        "x = x + 1\n",
        "print(x)\n",
        "#the output is 44"
      ],
      "metadata": {
        "id": "6cbstKca8Wz4"
      },
      "execution_count": null,
      "outputs": []
    },
    {
      "cell_type": "markdown",
      "source": [
        "Exercise 3:"
      ],
      "metadata": {
        "id": "0PvdQlLU8Z0E"
      }
    },
    {
      "cell_type": "code",
      "source": [
        "x = 43\n",
        "x = X + 1\n",
        "print(x)\n",
        "#the second line of code the \"X\" should be written in small letter \"x\""
      ],
      "metadata": {
        "id": "C65lT8Zf8bMx"
      },
      "execution_count": null,
      "outputs": []
    }
  ]
}